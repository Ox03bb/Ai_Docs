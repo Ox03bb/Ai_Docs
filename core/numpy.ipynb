{
 "cells": [
  {
   "cell_type": "markdown",
   "metadata": {},
   "source": [
    "> # NumPy"
   ]
  },
  {
   "cell_type": "code",
   "execution_count": 13,
   "metadata": {},
   "outputs": [
    {
     "name": "stdout",
     "output_type": "stream",
     "text": [
      "[[1 2 3]\n",
      " [4 5 6]\n",
      " [7 8 9]]\n",
      "\n",
      "[1 2 3 4 5 6 7 8 9]\n"
     ]
    }
   ],
   "source": [
    "import numpy as np\n",
    "\n",
    "# np.array() creates a simple array but pt list [] is a linkedlist\n",
    "arr = np.array([[1,2,3], [4,5,6], [7,8,9]])\n",
    "vec = np.array([1,2,3,4,5,6,7,8,9])\n",
    "\n",
    "print(arr,end=\"\\n\\n\")\n",
    "print(vec)\n"
   ]
  },
  {
   "cell_type": "markdown",
   "metadata": {},
   "source": [
    "> ### Some basic functions"
   ]
  },
  {
   "cell_type": "code",
   "execution_count": 87,
   "metadata": {},
   "outputs": [
    {
     "name": "stdout",
     "output_type": "stream",
     "text": [
      "2nd element on 1st row:  2\n",
      "number of dimensions : 2\n",
      "shape of array: (3, 3)\n",
      "size of array: 9\n",
      "data type of array: int32\n",
      "size of each element in array: 4\n",
      "the base array (view): None\n",
      "memory address of array: <memory at 0x00000227CB63B1D0>\n"
     ]
    }
   ],
   "source": [
    "print('2nd element on 1st row: ', arr[0, 1]) # OR  arr[0][1]\n",
    "print('number of dimensions :', arr.ndim)\n",
    "print('shape of array:', arr.shape)\n",
    "print('size of array:', arr.size)\n",
    "print('data type of array:', arr.dtype)\n",
    "print('size of each element in array:', arr.itemsize) # in bytes\n",
    "print('the base array (view):',arr.base) # more info below\n",
    "print('memory address of array:', arr.data)"
   ]
  },
  {
   "cell_type": "markdown",
   "metadata": {},
   "source": [
    "> ### Math operations on arrays "
   ]
  },
  {
   "cell_type": "code",
   "execution_count": null,
   "metadata": {},
   "outputs": [],
   "source": [
    "\n",
    "print(\"Matrix multiplication:\", np.matmul(arr, arr))\n",
    "print(\"Element-wise multiplication:\", np.multiply(arr, arr))\n",
    "print(\"Matrix addition:\", np.add(arr, arr))\n",
    "print(\"Matrix subtraction:\", np.subtract(arr, arr))\n",
    "print(\"Matrix division:\", np.divide(arr, arr))\n",
    "print(\"Matrix exponential:\", np.exp(arr))\n",
    "print(\"Matrix sine:\", np.sin(arr))\n",
    "print(\"Matrix cosine:\", np.cos(arr))\n",
    "print(\"Matrix tangent:\", np.tan(arr))\n"
   ]
  },
  {
   "cell_type": "markdown",
   "metadata": {},
   "source": [
    "> ### Array Slicing\n",
    "\n",
    "- Arr[start:end:step]"
   ]
  },
  {
   "cell_type": "code",
   "execution_count": 65,
   "metadata": {},
   "outputs": [
    {
     "name": "stdout",
     "output_type": "stream",
     "text": [
      "[3 4]\n",
      "[1 2 3 4 5]\n",
      "[3 5 7 9]\n",
      "[[2 3]\n",
      " [5 6]]\n"
     ]
    }
   ],
   "source": [
    "print(vec[2:4])  # 2nd to 4th element\n",
    "print(vec[:5])   # first to 5nd element\n",
    "print(vec[2::2]) # start from 2nd index and skip 2 elements\n",
    "print(arr[0:2, 1:3]) # 0 to 2 rows and 1 to 3 columns"
   ]
  },
  {
   "cell_type": "markdown",
   "metadata": {},
   "source": [
    "> ### Data Types:\n",
    "\n",
    "- #### in python:\n",
    "    - strings \n",
    "    - integer \n",
    "    - float \n",
    "    - boolean \n",
    "    - complex \n",
    "\n",
    "- ### in NumPy:\n",
    "\n",
    "    - i - integer\n",
    "    - b - boolean\n",
    "    - u - unsigned integer\n",
    "    - f - float\n",
    "    - c - complex float\n",
    "    - m - timedelta\n",
    "    - M - datetime\n",
    "    - O - object\n",
    "    - S - string\n",
    "    - U - unicode string\n",
    "    - V - fixed chunk of memory for other type ( void )"
   ]
  },
  {
   "cell_type": "code",
   "execution_count": 76,
   "metadata": {},
   "outputs": [
    {
     "name": "stdout",
     "output_type": "stream",
     "text": [
      "int64\n",
      "<U1\n"
     ]
    }
   ],
   "source": [
    "print(arr.dtype)\n",
    "arr2 = np.array([1, 2, 3, 4], dtype='U')\n",
    "print(arr2.dtype)"
   ]
  },
  {
   "cell_type": "markdown",
   "metadata": {},
   "source": [
    "> ### Copy & View :"
   ]
  },
  {
   "cell_type": "markdown",
   "metadata": {},
   "source": [
    "- #### on Edit :"
   ]
  },
  {
   "cell_type": "code",
   "execution_count": 95,
   "metadata": {},
   "outputs": [
    {
     "name": "stdout",
     "output_type": "stream",
     "text": [
      "[[1 2 3]\n",
      " [4 5 6]\n",
      " [7 8 9]]\n",
      "\n",
      "[[100   2   3]\n",
      " [  4   5   6]\n",
      " [  7   8   9]]\n"
     ]
    }
   ],
   "source": [
    "x = arr.copy()\n",
    "y = arr.view()\n",
    "\n",
    "arr[0, 0] = 100\n",
    "\n",
    "print(x ,end=\"\\n\\n\")\n",
    "print(y)\n"
   ]
  },
  {
   "cell_type": "markdown",
   "metadata": {},
   "source": [
    "- #### Base : "
   ]
  },
  {
   "cell_type": "code",
   "execution_count": 96,
   "metadata": {},
   "outputs": [
    {
     "name": "stdout",
     "output_type": "stream",
     "text": [
      "x.base: None\n",
      "y.base: [[100   2   3]\n",
      " [  4   5   6]\n",
      " [  7   8   9]]\n"
     ]
    }
   ],
   "source": [
    "print('x.base:', x.base)\n",
    "print('y.base:', y.base)"
   ]
  },
  {
   "cell_type": "markdown",
   "metadata": {},
   "source": [
    "> ### Reshaping Arrays :\n",
    "- when i want reasheape array must: \n",
    "$$\n",
    "n_0 × m_0 = n_1 × m_1\n",
    "$$"
   ]
  },
  {
   "cell_type": "code",
   "execution_count": 103,
   "metadata": {},
   "outputs": [
    {
     "name": "stdout",
     "output_type": "stream",
     "text": [
      "[[1 2 3]\n",
      " [4 5 6]\n",
      " [7 8 9]]\n",
      "\n",
      "the base of vec after rechape: [1 2 3 4 5 6 7 8 9]\n",
      "vec after flatten:  [1 2 3 4 5 6 7 8 9]\n",
      "\n"
     ]
    }
   ],
   "source": [
    "vec = np.array([1,2,3,4,5,6,7,8,9])\n",
    "\n",
    "vec = vec.reshape(3,3)\n",
    "print(vec ,end=\"\\n\\n\")\n",
    "print('the base of vec after rechape:',vec.base)\n",
    "\n",
    "vec = vec.reshape(-1) # is used to flatten() the array\n",
    "print('vec after flatten:',vec ,end=\"\\n\\n\")"
   ]
  },
  {
   "cell_type": "markdown",
   "metadata": {},
   "source": [
    "> ### Joining Array : \n"
   ]
  },
  {
   "cell_type": "markdown",
   "metadata": {},
   "source": [
    "- #### Vectors :"
   ]
  },
  {
   "cell_type": "code",
   "execution_count": 15,
   "metadata": {},
   "outputs": [
    {
     "name": "stdout",
     "output_type": "stream",
     "text": [
      "[1 2 3 4 5 6]\n"
     ]
    }
   ],
   "source": [
    "arr1 = np.array([1, 2, 3])\n",
    "arr2 = np.array([4, 5, 6])\n",
    "\n",
    "arr3 = np.concatenate((arr1, arr2))\n",
    "\n",
    "print(arr3)\n"
   ]
  },
  {
   "cell_type": "markdown",
   "metadata": {},
   "source": [
    "- #### 2D-Arrays :\n",
    "    - axis :\n",
    "    <!-- ![aixs_img](./img/img_01.png) -->\n",
    "    <div style=\"display:flex;justify-content:center\">\n",
    "        <img title=\"a title\" alt=\"Alt text\" src=\"./img/img_01.png\" style=\"width:50vw;filter: invert(0.95);\">\n",
    "    </div>"
   ]
  },
  {
   "cell_type": "code",
   "execution_count": 19,
   "metadata": {},
   "outputs": [
    {
     "name": "stdout",
     "output_type": "stream",
     "text": [
      "[[1 2]\n",
      " [3 4]\n",
      " [5 6]\n",
      " [7 8]]\n",
      "\n",
      "[[1 2 5 6]\n",
      " [3 4 7 8]]\n"
     ]
    }
   ],
   "source": [
    "arr1 = np.array([[1, 2], [3, 4]])\n",
    "\n",
    "arr2 = np.array([[5, 6], [7, 8]])\n",
    "\n",
    "print(np.concatenate((arr1, arr2), axis=0),end=\"\\n\\n\")\n",
    "print(np.concatenate((arr1, arr2), axis=1))"
   ]
  },
  {
   "cell_type": "markdown",
   "metadata": {},
   "source": [
    "`there are other ways to join arrays: stack() hstack() vstack() dstack() column_stack() row_stack() concatenate()`\n",
    " "
   ]
  },
  {
   "cell_type": "markdown",
   "metadata": {},
   "source": [
    "> ### Splitting Array :"
   ]
  },
  {
   "cell_type": "code",
   "execution_count": 22,
   "metadata": {},
   "outputs": [
    {
     "name": "stdout",
     "output_type": "stream",
     "text": [
      "[array([1, 2]), array([3, 4]), array([5, 6])]\n"
     ]
    }
   ],
   "source": [
    "arr4 = np.array([1, 2, 3, 4, 5, 6])\n",
    "\n",
    "newarr = np.array_split(arr4, 3) # the divider must be lthe length of the array\n",
    "\n",
    "print(newarr)"
   ]
  },
  {
   "cell_type": "markdown",
   "metadata": {},
   "source": [
    "> ### Searching Arrays :"
   ]
  },
  {
   "cell_type": "code",
   "execution_count": 23,
   "metadata": {},
   "outputs": [
    {
     "name": "stdout",
     "output_type": "stream",
     "text": [
      "(array([3, 5, 6], dtype=int64),)\n"
     ]
    }
   ],
   "source": [
    "arr5 = np.array([1, 2, 3, 4, 5, 4, 4])\n",
    "\n",
    "x = np.where(arr5 == 4) # returns a tuple with the index of the element\n",
    "\n",
    "print(x) "
   ]
  },
  {
   "cell_type": "code",
   "execution_count": 24,
   "metadata": {},
   "outputs": [
    {
     "name": "stdout",
     "output_type": "stream",
     "text": [
      "(array([1, 3, 5, 6], dtype=int64),)\n"
     ]
    }
   ],
   "source": [
    "x = np.where(arr5%2 == 0) \n",
    "\n",
    "print(x)"
   ]
  },
  {
   "cell_type": "markdown",
   "metadata": {},
   "source": [
    "> ### Sorting Arrays :"
   ]
  },
  {
   "cell_type": "code",
   "execution_count": 25,
   "metadata": {},
   "outputs": [
    {
     "name": "stdout",
     "output_type": "stream",
     "text": [
      "[1 2 3 4 4 4 5]\n",
      "[5 4 4 4 3 2 1]\n"
     ]
    }
   ],
   "source": [
    "s = np.sort(arr5)\n",
    "s2 = np.sort(arr5)[::-1] # reverse sort\n",
    "s3 = np.sort(arr5, kind='mergesort') # sort using mergesort\n",
    "\n",
    "print(s)\n",
    "print(s2)"
   ]
  },
  {
   "cell_type": "markdown",
   "metadata": {},
   "source": [
    "#### kind Values:\n",
    "\n",
    "|   kind      | speed | worst case | work space | stable |\n",
    "|-------------|-------|------------|------------|--------|\n",
    "| 'quicksort' |   1   |   O(n^2)   |     0      |   no   |\n",
    "| 'heapsort'  |   3   | O(n*log(n))|     0      |   no   |\n",
    "| 'mergesort' |   2   | O(n*log(n))|   ~n/2     |  yes   |\n",
    "| 'timsort'   |   2   | O(n*log(n))|   ~n/2     |  yes   |\n",
    "\n"
   ]
  },
  {
   "cell_type": "markdown",
   "metadata": {},
   "source": [
    "> ### Filtering Arrays :"
   ]
  },
  {
   "cell_type": "code",
   "execution_count": 26,
   "metadata": {},
   "outputs": [
    {
     "name": "stdout",
     "output_type": "stream",
     "text": [
      "[41 43]\n",
      "[43 44]\n"
     ]
    }
   ],
   "source": [
    "arr6 = np.array([41, 42, 43, 44])\n",
    "\n",
    "var_filter = [True, False, True, False]\n",
    "var_filter2 = arr6 > 42\n",
    "\n",
    "newarr = arr6[var_filter]\n",
    "newarr2 = arr6[var_filter2]\n",
    "\n",
    "print(newarr)\n",
    "print(newarr2)"
   ]
  }
 ],
 "metadata": {
  "kernelspec": {
   "display_name": "Python 3",
   "language": "python",
   "name": "python3"
  },
  "language_info": {
   "codemirror_mode": {
    "name": "ipython",
    "version": 3
   },
   "file_extension": ".py",
   "mimetype": "text/x-python",
   "name": "python",
   "nbconvert_exporter": "python",
   "pygments_lexer": "ipython3",
   "version": "3.11.4"
  }
 },
 "nbformat": 4,
 "nbformat_minor": 2
}
