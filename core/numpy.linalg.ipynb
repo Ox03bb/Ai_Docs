{
 "cells": [
  {
   "cell_type": "markdown",
   "metadata": {},
   "source": [
    "> ## Numpy Linear Algebra"
   ]
  },
  {
   "cell_type": "code",
   "execution_count": 11,
   "metadata": {},
   "outputs": [],
   "source": [
    "import numpy as np\n",
    "\n",
    "arr = np.array([[1, 3, 3],\n",
    "                [4, 5, 6],\n",
    "                [7, 8, 9]])"
   ]
  },
  {
   "cell_type": "markdown",
   "metadata": {},
   "source": [
    "> ### Basic Functions of Numpy Linear Algebra :"
   ]
  },
  {
   "cell_type": "code",
   "execution_count": null,
   "metadata": {},
   "outputs": [],
   "source": [
    "print(\"Rank of arr:\", np.linalg.matrix_rank(arr),end=\"\\n\\n\")\n",
    "print(\"Determinant of arr:\", np.linalg.det(arr),end=\"\\n\\n\")\n",
    "print(\"Trace of arr:\", np.trace(arr),end=\"\\n\\n\")  # sum of diagonal elements\n",
    "print(\"Inverse of arr:\\n\", np.linalg.inv(arr),end=\"\\n\\n\") \n",
    "print(\"Eigenvalues of arr:\\n\", np.linalg.eigvals(arr),end=\"\\n\\n\") \n",
    "print(\"Eigenvectors of arr:\\n\", np.linalg.eig(arr),end=\"\\n\\n\")\n",
    "print(\"SVD of arr:\\n\", np.linalg.svd(arr),end=\"\\n\\n\")\n",
    "print(\"Norm of arr:\\n\", np.linalg.norm(arr),end=\"\\n\\n\")\n",
    "print(\"Condition number of arr:\\n\", np.linalg.cond(arr),end=\"\\n\\n\")\n",
    "print(\"LU decomposition of arr:\\n\", np.linalg.lu(arr),end=\"\\n\\n\")\n",
    "print(\"QR decomposition of arr:\\n\", np.linalg.qr(arr),end=\"\\n\\n\")\n",
    "print(\"Cholesky decomposition of arr:\\n\", np.linalg.cholesky(arr),end=\"\\n\\n\")\n",
    "print(\"Solve linear equations:\\n\", np.linalg.solve(arr, [1, 2, 3]),end=\"\\n\\n\")\n",
    "print(\"Least squares solution:\\n\", np.linalg.lstsq(arr, [1, 2, 3]),end=\"\\n\\n\")\n",
    "print(\"Matrix power:\\n\", np.linalg.matrix_power(arr, 2),end=\"\\n\\n\")\n"
   ]
  }
 ],
 "metadata": {
  "kernelspec": {
   "display_name": "Python 3",
   "language": "python",
   "name": "python3"
  },
  "language_info": {
   "codemirror_mode": {
    "name": "ipython",
    "version": 3
   },
   "file_extension": ".py",
   "mimetype": "text/x-python",
   "name": "python",
   "nbconvert_exporter": "python",
   "pygments_lexer": "ipython3",
   "version": "3.11.4"
  }
 },
 "nbformat": 4,
 "nbformat_minor": 2
}
