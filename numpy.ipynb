{
 "cells": [
  {
   "cell_type": "code",
   "execution_count": 37,
   "metadata": {},
   "outputs": [
    {
     "name": "stdout",
     "output_type": "stream",
     "text": [
      "[[1 2 3]\n",
      " [4 5 6]\n",
      " [7 8 9]]\n",
      "2nd element on 1st row:  2\n",
      "number of dimensions : 2\n",
      "[[1 2 3]\n",
      " [4 5 6]]\n"
     ]
    }
   ],
   "source": [
    "import numpy as np\n",
    "\n",
    "# np.array() creates a simple array but pt list [] is a linkedlist\n",
    "arr = np.array([[1,2,3], [4,5,6], [7,8,9]])\n",
    "\n",
    "print(arr)\n",
    "\n",
    "print('2nd element on 1st row: ', arr[0, 1]) # OR  arr[0][1]\n",
    "print('number of dimensions :', arr.ndim)\n",
    "\n",
    "print(arr[:2])\n",
    "\n"
   ]
  }
 ],
 "metadata": {
  "kernelspec": {
   "display_name": "Python 3",
   "language": "python",
   "name": "python3"
  },
  "language_info": {
   "codemirror_mode": {
    "name": "ipython",
    "version": 3
   },
   "file_extension": ".py",
   "mimetype": "text/x-python",
   "name": "python",
   "nbconvert_exporter": "python",
   "pygments_lexer": "ipython3",
   "version": "3.11.4"
  }
 },
 "nbformat": 4,
 "nbformat_minor": 2
}
